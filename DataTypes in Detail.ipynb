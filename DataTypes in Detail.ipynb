{
 "cells": [
  {
   "cell_type": "markdown",
   "id": "cdf488a5",
   "metadata": {},
   "source": [
    "### Strings and Character Data in Python\n",
    "\n",
    "String are objects that contain sequences of character data. Processing character data is integral to programming. Python provides a rich set of operators, functions, and methods for working with strings. In this module, we'll discuss the below topics.\n",
    "\n",
    "1. Using operators with strings\n",
    "2. Accessing and extracting portions of strings\n",
    "3. Use built-in Python functions with characters and strings\n",
    "4. Use methods to manipulate and modify string data\n",
    "\n",
    "#### String Manipulation\n",
    "1. String Operators\n",
    "2. Built-In String Functions\n",
    "    * Case Conversion (upper, lower, title, capitalize)\n",
    "    * Find and Replace (find, index) \n",
    "    * dir and __doc__\n",
    "3. String Indexing & Slicing\n",
    "    * name[1]\n",
    "\n",
    "### Working with python list\n",
    "List is Python’s most versatile, useful data types. You’ll find list in virtually every Python program. we'll cover the important characteristics of lists and we’ll learn how to define them and how to manipulate them.\n",
    "\n",
    "1. Lists Overview\n",
    "2. Indexing and Slicing\n",
    "3. Nesting\n",
    "4. List Methods\n",
    "    * Inserting item to a given position\n",
    "    * Appending value to a list\n",
    "    * Removing elements from a list\n",
    "    * Extending a list and merging with other list\n",
    "    * Counting instances of an elements in a list\n",
    "    * index - Finding index of something in the list\n",
    "    * Sorting a list\n",
    "    * Reversing a list\n",
    "    \n",
    "### Working with dictionary in python\n",
    "We’ll cover the basic characteristics of Python dictionaries and learn how to access and manage dictionary data. O\n",
    "1. Dictionaries and lists share the following characteristics:\n",
    "    * Both are mutable.\n",
    "    * Both are dynamic. They can grow and shrink as needed.\n",
    "    * Both can be nested. A list can contain another list. A dictionary can contain another dictionary. A dictionary can also contain a list, and vice versa.\n",
    "\n",
    "4. Dictionary Methods\n",
    "    * Get all keys from a dictionary - keys\n",
    "    * Get all values from a dictionary - values\n",
    "    * To Access data from a dictionary for a key - get\n",
    "    * Update a dictionary - update\n",
    "    * Deleting data from the dictionary\n",
    "    * Deleting all the key values from a dictionary - clear\n",
    "    \n",
    "### Conditional Statements in Python (if/elif/else)\n",
    "We’ll learn how to work with conditional (“if”) statements in Python. if-statements help us implement complex decision making in your programs.\n",
    "\n",
    "1. \"if\", \"else\" and \"elif\" Clauses\n",
    "2. One-Line \"if\" Statements\n",
    "3. Conditional Expressions\n",
    "4. The \"pass\" Statement"
   ]
  },
  {
   "cell_type": "code",
   "execution_count": 72,
   "id": "1226db47",
   "metadata": {},
   "outputs": [],
   "source": [
    "name = \"Naveen\""
   ]
  },
  {
   "cell_type": "code",
   "execution_count": 86,
   "id": "d610f5fe",
   "metadata": {},
   "outputs": [],
   "source": [
    "list1 = [1,2,3]"
   ]
  },
  {
   "cell_type": "code",
   "execution_count": 88,
   "id": "ea96b4df",
   "metadata": {},
   "outputs": [
    {
     "data": {
      "text/plain": [
       "[1, 2, 3]"
      ]
     },
     "execution_count": 88,
     "metadata": {},
     "output_type": "execute_result"
    }
   ],
   "source": [
    "list1"
   ]
  },
  {
   "cell_type": "code",
   "execution_count": 89,
   "id": "d29364d6",
   "metadata": {},
   "outputs": [],
   "source": [
    "list1.append(4)"
   ]
  },
  {
   "cell_type": "code",
   "execution_count": 91,
   "id": "93b0d733",
   "metadata": {},
   "outputs": [],
   "source": [
    "list2 = [4,5,6]"
   ]
  },
  {
   "cell_type": "code",
   "execution_count": 92,
   "id": "0395f205",
   "metadata": {},
   "outputs": [],
   "source": [
    "list1.extend(list2)"
   ]
  },
  {
   "cell_type": "code",
   "execution_count": 93,
   "id": "fa9d3f3e",
   "metadata": {},
   "outputs": [
    {
     "data": {
      "text/plain": [
       "[1, 2, 3, 4, 4, 5, 6]"
      ]
     },
     "execution_count": 93,
     "metadata": {},
     "output_type": "execute_result"
    }
   ],
   "source": [
    "list1"
   ]
  },
  {
   "cell_type": "code",
   "execution_count": 94,
   "id": "7a52d021",
   "metadata": {},
   "outputs": [],
   "source": [
    "dict_1 = {\"name\": \"Naveen\", \"city\": \"Delhi\"}"
   ]
  },
  {
   "cell_type": "code",
   "execution_count": 95,
   "id": "7e650f17",
   "metadata": {},
   "outputs": [
    {
     "data": {
      "text/plain": [
       "dict"
      ]
     },
     "execution_count": 95,
     "metadata": {},
     "output_type": "execute_result"
    }
   ],
   "source": [
    "type(dict_1)"
   ]
  },
  {
   "cell_type": "code",
   "execution_count": 96,
   "id": "7c0b7bf9",
   "metadata": {},
   "outputs": [
    {
     "data": {
      "text/plain": [
       "['__class__',\n",
       " '__class_getitem__',\n",
       " '__contains__',\n",
       " '__delattr__',\n",
       " '__delitem__',\n",
       " '__dir__',\n",
       " '__doc__',\n",
       " '__eq__',\n",
       " '__format__',\n",
       " '__ge__',\n",
       " '__getattribute__',\n",
       " '__getitem__',\n",
       " '__gt__',\n",
       " '__hash__',\n",
       " '__init__',\n",
       " '__init_subclass__',\n",
       " '__ior__',\n",
       " '__iter__',\n",
       " '__le__',\n",
       " '__len__',\n",
       " '__lt__',\n",
       " '__ne__',\n",
       " '__new__',\n",
       " '__or__',\n",
       " '__reduce__',\n",
       " '__reduce_ex__',\n",
       " '__repr__',\n",
       " '__reversed__',\n",
       " '__ror__',\n",
       " '__setattr__',\n",
       " '__setitem__',\n",
       " '__sizeof__',\n",
       " '__str__',\n",
       " '__subclasshook__',\n",
       " 'clear',\n",
       " 'copy',\n",
       " 'fromkeys',\n",
       " 'get',\n",
       " 'items',\n",
       " 'keys',\n",
       " 'pop',\n",
       " 'popitem',\n",
       " 'setdefault',\n",
       " 'update',\n",
       " 'values']"
      ]
     },
     "execution_count": 96,
     "metadata": {},
     "output_type": "execute_result"
    }
   ],
   "source": [
    "dir(dict_1)"
   ]
  },
  {
   "cell_type": "code",
   "execution_count": 97,
   "id": "40a7c56d",
   "metadata": {},
   "outputs": [
    {
     "data": {
      "text/plain": [
       "'Naveen'"
      ]
     },
     "execution_count": 97,
     "metadata": {},
     "output_type": "execute_result"
    }
   ],
   "source": [
    "dict_1.get(\"name\")"
   ]
  },
  {
   "cell_type": "code",
   "execution_count": 98,
   "id": "1c6a3dcf",
   "metadata": {},
   "outputs": [
    {
     "name": "stdout",
     "output_type": "stream",
     "text": [
      "{'name': 'Naveen', 'city': 'Delhi'}\n"
     ]
    }
   ],
   "source": [
    "print(dict_1)"
   ]
  },
  {
   "cell_type": "code",
   "execution_count": 99,
   "id": "88d524b1",
   "metadata": {},
   "outputs": [],
   "source": [
    "dict_1.update({\"city\": \"Noida\"})"
   ]
  },
  {
   "cell_type": "code",
   "execution_count": 100,
   "id": "4033930c",
   "metadata": {},
   "outputs": [
    {
     "name": "stdout",
     "output_type": "stream",
     "text": [
      "{'name': 'Naveen', 'city': 'Noida'}\n"
     ]
    }
   ],
   "source": [
    "print(dict_1)"
   ]
  },
  {
   "cell_type": "code",
   "execution_count": 101,
   "id": "23e9b629",
   "metadata": {},
   "outputs": [],
   "source": [
    "del dict_1['name']"
   ]
  },
  {
   "cell_type": "code",
   "execution_count": 102,
   "id": "02278e47",
   "metadata": {},
   "outputs": [
    {
     "name": "stdout",
     "output_type": "stream",
     "text": [
      "{'city': 'Noida'}\n"
     ]
    }
   ],
   "source": [
    "print(dict_1)"
   ]
  },
  {
   "cell_type": "code",
   "execution_count": null,
   "id": "e47ad77e",
   "metadata": {},
   "outputs": [],
   "source": [
    "todo_list = [\n",
    "    \"complete python study\", \n",
    "    \"complete python test\",\n",
    "    \"get the certificate\"\n",
    "]"
   ]
  },
  {
   "cell_type": "code",
   "execution_count": 106,
   "id": "b7e68570",
   "metadata": {},
   "outputs": [],
   "source": [
    "todo_list = [\n",
    "    {\"task\": \"complete python study\", \"deadline\": \"2022-10-10\"},\n",
    "    {\"task\":\"complete python test\", \"deadline\": \"2022-10-10\"},\n",
    "    {\"task\":\"get the certificate\", \"deadline\": \"2022-10-10\"}\n",
    "]"
   ]
  },
  {
   "cell_type": "code",
   "execution_count": 107,
   "id": "c171274a",
   "metadata": {},
   "outputs": [
    {
     "name": "stdout",
     "output_type": "stream",
     "text": [
      "[{'task': 'complete python study', 'deadline': '2022-10-10'}, {'task': 'complete python test', 'deadline': '2022-10-10'}, {'task': 'get the certificate', 'deadline': '2022-10-10'}]\n"
     ]
    }
   ],
   "source": [
    "print(todo_list)"
   ]
  },
  {
   "cell_type": "code",
   "execution_count": 108,
   "id": "6c0bcd2f",
   "metadata": {},
   "outputs": [],
   "source": [
    "user = {\n",
    "    \"name\": \"Naveen\",\n",
    "    \"courses\": [\"python\", \"javascript\"]\n",
    "}"
   ]
  },
  {
   "cell_type": "code",
   "execution_count": 109,
   "id": "9d8bc290",
   "metadata": {},
   "outputs": [
    {
     "name": "stdout",
     "output_type": "stream",
     "text": [
      "{'name': 'Naveen', 'courses': ['python', 'javascript']}\n"
     ]
    }
   ],
   "source": [
    "print(user)"
   ]
  },
  {
   "cell_type": "code",
   "execution_count": 110,
   "id": "69c27f8a",
   "metadata": {},
   "outputs": [
    {
     "data": {
      "text/plain": [
       "dict_keys(['name', 'courses'])"
      ]
     },
     "execution_count": 110,
     "metadata": {},
     "output_type": "execute_result"
    }
   ],
   "source": [
    "user.keys()"
   ]
  },
  {
   "cell_type": "code",
   "execution_count": 111,
   "id": "31c91831",
   "metadata": {},
   "outputs": [
    {
     "data": {
      "text/plain": [
       "dict_values(['Naveen', ['python', 'javascript']])"
      ]
     },
     "execution_count": 111,
     "metadata": {},
     "output_type": "execute_result"
    }
   ],
   "source": [
    "user.values()"
   ]
  },
  {
   "cell_type": "code",
   "execution_count": 112,
   "id": "ecb376ce",
   "metadata": {},
   "outputs": [],
   "source": [
    "def hello():\n",
    "    \"\"\"\n",
    "    this function will print hello world\n",
    "    \"\"\"\n",
    "    return \"hello world\"\n",
    "\n",
    "\n",
    "function_list = [hello]"
   ]
  },
  {
   "cell_type": "code",
   "execution_count": 113,
   "id": "0c0069b7",
   "metadata": {},
   "outputs": [
    {
     "data": {
      "text/plain": [
       "[<function __main__.hello()>]"
      ]
     },
     "execution_count": 113,
     "metadata": {},
     "output_type": "execute_result"
    }
   ],
   "source": [
    "function_list"
   ]
  },
  {
   "cell_type": "code",
   "execution_count": 115,
   "id": "afff4f6d",
   "metadata": {},
   "outputs": [],
   "source": [
    "func_dict = {\n",
    "    \"function_name\": \"hello world\",\n",
    "    \"function\": hello\n",
    "}"
   ]
  },
  {
   "cell_type": "code",
   "execution_count": null,
   "id": "95f45f6b",
   "metadata": {},
   "outputs": [],
   "source": []
  },
  {
   "cell_type": "code",
   "execution_count": 125,
   "id": "6f57093f",
   "metadata": {},
   "outputs": [],
   "source": [
    "num1 = 10\n",
    "num2 = 20"
   ]
  },
  {
   "cell_type": "code",
   "execution_count": 130,
   "id": "4aa180fa",
   "metadata": {},
   "outputs": [
    {
     "name": "stdout",
     "output_type": "stream",
     "text": [
      "Not same\n"
     ]
    }
   ],
   "source": [
    "if num1 == num2:\n",
    "    print(\"Same\")\n",
    "    print(\"something else\")\n",
    "else:\n",
    "    print(\"Not same\")"
   ]
  },
  {
   "cell_type": "code",
   "execution_count": 131,
   "id": "a259f3d3",
   "metadata": {},
   "outputs": [],
   "source": [
    "res = \"Same\" if num1 == num2 else \"Not same\""
   ]
  },
  {
   "cell_type": "code",
   "execution_count": 129,
   "id": "837cd484",
   "metadata": {},
   "outputs": [
    {
     "name": "stdout",
     "output_type": "stream",
     "text": [
      "Not same\n"
     ]
    }
   ],
   "source": [
    "print(res)"
   ]
  },
  {
   "cell_type": "code",
   "execution_count": 134,
   "id": "00918647",
   "metadata": {},
   "outputs": [],
   "source": [
    "result = num1 >= num2"
   ]
  },
  {
   "cell_type": "code",
   "execution_count": 139,
   "id": "5f73b3c5",
   "metadata": {},
   "outputs": [],
   "source": [
    "name = \"naveen\""
   ]
  },
  {
   "cell_type": "code",
   "execution_count": 141,
   "id": "4efe69b0",
   "metadata": {},
   "outputs": [
    {
     "data": {
      "text/plain": [
       "'Return a capitalized version of the string.\\n\\nMore specifically, make the first character have upper case and the rest lower\\ncase.'"
      ]
     },
     "execution_count": 141,
     "metadata": {},
     "output_type": "execute_result"
    }
   ],
   "source": []
  },
  {
   "cell_type": "code",
   "execution_count": null,
   "id": "70c2b3bd",
   "metadata": {},
   "outputs": [],
   "source": []
  },
  {
   "cell_type": "code",
   "execution_count": null,
   "id": "6c2233c4",
   "metadata": {},
   "outputs": [],
   "source": []
  },
  {
   "cell_type": "markdown",
   "id": "6d25fc4c",
   "metadata": {},
   "source": [
    "**Q: Create a variable name assign your name to that variable**\n",
    "</br>\n",
    "**Check what is the type of the variable and what are the public method available on that variable**\n",
    "</br>\n",
    "**Practice all the methods and write a brief summary on each of them in your words**"
   ]
  },
  {
   "cell_type": "code",
   "execution_count": 2,
   "id": "2f76e00d",
   "metadata": {},
   "outputs": [],
   "source": [
    "name = \"diksha jain\""
   ]
  },
  {
   "cell_type": "code",
   "execution_count": 142,
   "id": "42279bda",
   "metadata": {},
   "outputs": [
    {
     "data": {
      "text/plain": [
       "['__add__',\n",
       " '__class__',\n",
       " '__contains__',\n",
       " '__delattr__',\n",
       " '__dir__',\n",
       " '__doc__',\n",
       " '__eq__',\n",
       " '__format__',\n",
       " '__ge__',\n",
       " '__getattribute__',\n",
       " '__getitem__',\n",
       " '__getnewargs__',\n",
       " '__gt__',\n",
       " '__hash__',\n",
       " '__init__',\n",
       " '__init_subclass__',\n",
       " '__iter__',\n",
       " '__le__',\n",
       " '__len__',\n",
       " '__lt__',\n",
       " '__mod__',\n",
       " '__mul__',\n",
       " '__ne__',\n",
       " '__new__',\n",
       " '__reduce__',\n",
       " '__reduce_ex__',\n",
       " '__repr__',\n",
       " '__rmod__',\n",
       " '__rmul__',\n",
       " '__setattr__',\n",
       " '__sizeof__',\n",
       " '__str__',\n",
       " '__subclasshook__',\n",
       " 'capitalize',\n",
       " 'casefold',\n",
       " 'center',\n",
       " 'count',\n",
       " 'encode',\n",
       " 'endswith',\n",
       " 'expandtabs',\n",
       " 'find',\n",
       " 'format',\n",
       " 'format_map',\n",
       " 'index',\n",
       " 'isalnum',\n",
       " 'isalpha',\n",
       " 'isascii',\n",
       " 'isdecimal',\n",
       " 'isdigit',\n",
       " 'isidentifier',\n",
       " 'islower',\n",
       " 'isnumeric',\n",
       " 'isprintable',\n",
       " 'isspace',\n",
       " 'istitle',\n",
       " 'isupper',\n",
       " 'join',\n",
       " 'ljust',\n",
       " 'lower',\n",
       " 'lstrip',\n",
       " 'maketrans',\n",
       " 'partition',\n",
       " 'removeprefix',\n",
       " 'removesuffix',\n",
       " 'replace',\n",
       " 'rfind',\n",
       " 'rindex',\n",
       " 'rjust',\n",
       " 'rpartition',\n",
       " 'rsplit',\n",
       " 'rstrip',\n",
       " 'split',\n",
       " 'splitlines',\n",
       " 'startswith',\n",
       " 'strip',\n",
       " 'swapcase',\n",
       " 'title',\n",
       " 'translate',\n",
       " 'upper',\n",
       " 'zfill']"
      ]
     },
     "execution_count": 142,
     "metadata": {},
     "output_type": "execute_result"
    }
   ],
   "source": [
    "dir(name)"
   ]
  },
  {
   "cell_type": "code",
   "execution_count": 10,
   "id": "d4c93fd9",
   "metadata": {
    "scrolled": true
   },
   "outputs": [
    {
     "data": {
      "text/plain": [
       "'Diksha jain'"
      ]
     },
     "execution_count": 10,
     "metadata": {},
     "output_type": "execute_result"
    }
   ],
   "source": [
    "name.capitalize()\n",
    "\n"
   ]
  },
  {
   "cell_type": "code",
   "execution_count": 11,
   "id": "3d14709b",
   "metadata": {},
   "outputs": [
    {
     "data": {
      "text/plain": [
       "'diksha jain'"
      ]
     },
     "execution_count": 11,
     "metadata": {},
     "output_type": "execute_result"
    }
   ],
   "source": [
    "name.strip()"
   ]
  },
  {
   "cell_type": "code",
   "execution_count": 12,
   "id": "a9b7de91",
   "metadata": {},
   "outputs": [
    {
     "data": {
      "text/plain": [
       "'diksha jain'"
      ]
     },
     "execution_count": 12,
     "metadata": {},
     "output_type": "execute_result"
    }
   ],
   "source": [
    "name.casefold()"
   ]
  },
  {
   "cell_type": "code",
   "execution_count": 16,
   "id": "3c2ce766",
   "metadata": {},
   "outputs": [
    {
     "data": {
      "text/plain": [
       "False"
      ]
     },
     "execution_count": 16,
     "metadata": {},
     "output_type": "execute_result"
    }
   ],
   "source": [
    "name.isupper()"
   ]
  },
  {
   "cell_type": "code",
   "execution_count": 17,
   "id": "d69e743c",
   "metadata": {},
   "outputs": [
    {
     "data": {
      "text/plain": [
       "True"
      ]
     },
     "execution_count": 17,
     "metadata": {},
     "output_type": "execute_result"
    }
   ],
   "source": [
    "name.islower()"
   ]
  },
  {
   "cell_type": "code",
   "execution_count": 18,
   "id": "515c55e7",
   "metadata": {},
   "outputs": [
    {
     "data": {
      "text/plain": [
       "False"
      ]
     },
     "execution_count": 18,
     "metadata": {},
     "output_type": "execute_result"
    }
   ],
   "source": [
    "name.isdigit()"
   ]
  },
  {
   "cell_type": "code",
   "execution_count": 19,
   "id": "6a46c198",
   "metadata": {},
   "outputs": [
    {
     "data": {
      "text/plain": [
       "False"
      ]
     },
     "execution_count": 19,
     "metadata": {},
     "output_type": "execute_result"
    }
   ],
   "source": [
    "name.isdecimal()"
   ]
  },
  {
   "cell_type": "code",
   "execution_count": 22,
   "id": "f4b2d853",
   "metadata": {},
   "outputs": [
    {
     "data": {
      "text/plain": [
       "True"
      ]
     },
     "execution_count": 22,
     "metadata": {},
     "output_type": "execute_result"
    }
   ],
   "source": [
    "name.isascii()"
   ]
  },
  {
   "cell_type": "code",
   "execution_count": 23,
   "id": "6a8e1419",
   "metadata": {},
   "outputs": [
    {
     "data": {
      "text/plain": [
       "False"
      ]
     },
     "execution_count": 23,
     "metadata": {},
     "output_type": "execute_result"
    }
   ],
   "source": [
    "name.isnumeric()"
   ]
  },
  {
   "cell_type": "code",
   "execution_count": 24,
   "id": "d8d43da8",
   "metadata": {},
   "outputs": [
    {
     "data": {
      "text/plain": [
       "False"
      ]
     },
     "execution_count": 24,
     "metadata": {},
     "output_type": "execute_result"
    }
   ],
   "source": [
    "name.isspace()"
   ]
  },
  {
   "cell_type": "code",
   "execution_count": 27,
   "id": "4e4ab10b",
   "metadata": {},
   "outputs": [
    {
     "data": {
      "text/plain": [
       "False"
      ]
     },
     "execution_count": 27,
     "metadata": {},
     "output_type": "execute_result"
    }
   ],
   "source": [
    "name.istitle()"
   ]
  },
  {
   "cell_type": "code",
   "execution_count": 28,
   "id": "9e2431a5",
   "metadata": {},
   "outputs": [
    {
     "data": {
      "text/plain": [
       "False"
      ]
     },
     "execution_count": 28,
     "metadata": {},
     "output_type": "execute_result"
    }
   ],
   "source": [
    "name.isalnum()"
   ]
  },
  {
   "cell_type": "code",
   "execution_count": 29,
   "id": "014a40df",
   "metadata": {},
   "outputs": [
    {
     "data": {
      "text/plain": [
       "False"
      ]
     },
     "execution_count": 29,
     "metadata": {},
     "output_type": "execute_result"
    }
   ],
   "source": [
    "name.isalpha()"
   ]
  },
  {
   "cell_type": "code",
   "execution_count": 4,
   "id": "f8a22ced",
   "metadata": {},
   "outputs": [
    {
     "data": {
      "text/plain": [
       "['diksha jain']"
      ]
     },
     "execution_count": 4,
     "metadata": {},
     "output_type": "execute_result"
    }
   ],
   "source": [
    "name.split(\" \")"
   ]
  },
  {
   "cell_type": "code",
   "execution_count": 7,
   "id": "b3e3af88",
   "metadata": {},
   "outputs": [
    {
     "data": {
      "text/plain": [
       "True"
      ]
     },
     "execution_count": 7,
     "metadata": {},
     "output_type": "execute_result"
    }
   ],
   "source": [
    "name.endswith('i')\n",
    "name.startswith('d')"
   ]
  },
  {
   "cell_type": "code",
   "execution_count": 8,
   "id": "f9adfbf5",
   "metadata": {},
   "outputs": [
    {
     "data": {
      "text/plain": [
       "3"
      ]
     },
     "execution_count": 8,
     "metadata": {},
     "output_type": "execute_result"
    }
   ],
   "source": [
    "name.find('s')"
   ]
  },
  {
   "cell_type": "code",
   "execution_count": 11,
   "id": "8a65a905",
   "metadata": {},
   "outputs": [
    {
     "name": "stdout",
     "output_type": "stream",
     "text": [
      "b'diksha jain'\n"
     ]
    }
   ],
   "source": [
    "str=name.encode()\n",
    "print(str)"
   ]
  },
  {
   "cell_type": "code",
   "execution_count": 12,
   "id": "10e61ee2",
   "metadata": {},
   "outputs": [
    {
     "data": {
      "text/plain": [
       "'diksha jain'"
      ]
     },
     "execution_count": 12,
     "metadata": {},
     "output_type": "execute_result"
    }
   ],
   "source": [
    "name.zfill(5)"
   ]
  },
  {
   "cell_type": "code",
   "execution_count": 13,
   "id": "48bb59b7",
   "metadata": {},
   "outputs": [
    {
     "data": {
      "text/plain": [
       "'aadi jain'"
      ]
     },
     "execution_count": 13,
     "metadata": {},
     "output_type": "execute_result"
    }
   ],
   "source": [
    "name.replace(\"diksha\" , \"aadi\")"
   ]
  },
  {
   "cell_type": "code",
   "execution_count": 14,
   "id": "cc9417db",
   "metadata": {},
   "outputs": [
    {
     "data": {
      "text/plain": [
       "'diksha jain'"
      ]
     },
     "execution_count": 14,
     "metadata": {},
     "output_type": "execute_result"
    }
   ],
   "source": [
    "name.format(\"diksha\", '23')"
   ]
  },
  {
   "cell_type": "code",
   "execution_count": 15,
   "id": "bc2f89bc",
   "metadata": {},
   "outputs": [
    {
     "data": {
      "text/plain": [
       "1"
      ]
     },
     "execution_count": 15,
     "metadata": {},
     "output_type": "execute_result"
    }
   ],
   "source": [
    "name.count(\"jain\")"
   ]
  },
  {
   "cell_type": "code",
   "execution_count": 18,
   "id": "64f60b21",
   "metadata": {},
   "outputs": [
    {
     "data": {
      "text/plain": [
       "'    diksha jain     '"
      ]
     },
     "execution_count": 18,
     "metadata": {},
     "output_type": "execute_result"
    }
   ],
   "source": [
    "name.center(20)"
   ]
  },
  {
   "cell_type": "code",
   "execution_count": 19,
   "id": "af22bf1d",
   "metadata": {},
   "outputs": [
    {
     "data": {
      "text/plain": [
       "0"
      ]
     },
     "execution_count": 19,
     "metadata": {},
     "output_type": "execute_result"
    }
   ],
   "source": [
    "name.index(\"diksha\")"
   ]
  },
  {
   "cell_type": "code",
   "execution_count": 20,
   "id": "9cae56df",
   "metadata": {},
   "outputs": [
    {
     "name": "stdout",
     "output_type": "stream",
     "text": [
      "True\n"
     ]
    }
   ],
   "source": [
    "x=\"2000\"\n",
    "y=x.isdigit()\n",
    "print(y)"
   ]
  },
  {
   "cell_type": "code",
   "execution_count": 21,
   "id": "748a0539",
   "metadata": {},
   "outputs": [
    {
     "data": {
      "text/plain": [
       "False"
      ]
     },
     "execution_count": 21,
     "metadata": {},
     "output_type": "execute_result"
    }
   ],
   "source": [
    "name.isidentifier()"
   ]
  },
  {
   "cell_type": "code",
   "execution_count": 66,
   "id": "540deae6",
   "metadata": {},
   "outputs": [
    {
     "name": "stdout",
     "output_type": "stream",
     "text": [
      "diksha  123     jain\n"
     ]
    }
   ],
   "source": [
    "str='diksha \\t123\\tjain'\n",
    "result=str.expandtabs()\n",
    "print(result)"
   ]
  },
  {
   "cell_type": "code",
   "execution_count": null,
   "id": "7762fe5f",
   "metadata": {},
   "outputs": [],
   "source": []
  },
  {
   "cell_type": "markdown",
   "id": "8055df42",
   "metadata": {},
   "source": [
    "**Q: Create a list \"todo_list\" and add some todo items in the list**\n",
    "**Check what is the type of the variable and what are the public method available on that variable**\n",
    "**Practice all the methods and write a brief summary on each of them in your words**"
   ]
  },
  {
   "cell_type": "code",
   "execution_count": 32,
   "id": "a23d9047",
   "metadata": {},
   "outputs": [
    {
     "name": "stdout",
     "output_type": "stream",
     "text": [
      "['complete python study', 'complete python test', 'complete java language']\n"
     ]
    }
   ],
   "source": [
    "\n",
    "todo_list = [\n",
    "     \"complete python study\", \n",
    "    \"complete python test\",\n",
    "    \"complete java language\"\n",
    "    \n",
    "]\n",
    "\n",
    "print(todo_list)\n",
    "    \n"
   ]
  },
  {
   "cell_type": "code",
   "execution_count": 33,
   "id": "d7ee7f5c",
   "metadata": {},
   "outputs": [
    {
     "name": "stdout",
     "output_type": "stream",
     "text": [
      "['complete python study', 'complete python test', 'complete java language', 'web scripting']\n"
     ]
    }
   ],
   "source": [
    "todo_list.append(\"web scripting\")\n",
    "print(todo_list)"
   ]
  },
  {
   "cell_type": "code",
   "execution_count": 34,
   "id": "dd2c9a7b",
   "metadata": {},
   "outputs": [
    {
     "name": "stdout",
     "output_type": "stream",
     "text": [
      "[]\n"
     ]
    }
   ],
   "source": [
    "todo_list.clear()\n",
    "print(todo_list)"
   ]
  },
  {
   "cell_type": "code",
   "execution_count": 39,
   "id": "3f849902",
   "metadata": {},
   "outputs": [
    {
     "name": "stdout",
     "output_type": "stream",
     "text": [
      "['diksha', 'jain', 'aadi']\n"
     ]
    }
   ],
   "source": [
    "x=[\"diksha\",\"jain\",\"aadi\"]\n",
    "result=x.copy()\n",
    "print(result)"
   ]
  },
  {
   "cell_type": "code",
   "execution_count": 44,
   "id": "16cebd46",
   "metadata": {},
   "outputs": [
    {
     "name": "stdout",
     "output_type": "stream",
     "text": [
      "['complete python study', 'complete python test', 'complete java language']\n"
     ]
    }
   ],
   "source": [
    "todo_list = [\n",
    "     \"complete python study\", \n",
    "    \"complete python test\",\n",
    "    \"complete java language\"\n",
    "    \n",
    "]\n",
    "\n",
    "\n",
    "print(todo_list)"
   ]
  },
  {
   "cell_type": "code",
   "execution_count": 46,
   "id": "ae2a3a14",
   "metadata": {},
   "outputs": [
    {
     "name": "stdout",
     "output_type": "stream",
     "text": [
      "1\n"
     ]
    }
   ],
   "source": [
    "res=todo_list.count(\"complete java language\")\n",
    "print(res)"
   ]
  },
  {
   "cell_type": "code",
   "execution_count": 47,
   "id": "1f8c03b5",
   "metadata": {},
   "outputs": [
    {
     "name": "stdout",
     "output_type": "stream",
     "text": [
      "['complete java language', 'complete python study', 'complete python test']\n"
     ]
    }
   ],
   "source": [
    "todo_list.sort()\n",
    "print(todo_list)"
   ]
  },
  {
   "cell_type": "code",
   "execution_count": 48,
   "id": "dfd92670",
   "metadata": {},
   "outputs": [
    {
     "name": "stdout",
     "output_type": "stream",
     "text": [
      "['complete python test', 'complete python study', 'complete java language']\n"
     ]
    }
   ],
   "source": [
    "todo_list.reverse()\n",
    "print(todo_list)"
   ]
  },
  {
   "cell_type": "code",
   "execution_count": 50,
   "id": "e1eb2b05",
   "metadata": {},
   "outputs": [
    {
     "name": "stdout",
     "output_type": "stream",
     "text": [
      "['complete python test', 'complete python study']\n"
     ]
    }
   ],
   "source": [
    "todo_list.remove(\"complete java language\")\n",
    "print(todo_list)"
   ]
  },
  {
   "cell_type": "code",
   "execution_count": 51,
   "id": "2ef8facd",
   "metadata": {},
   "outputs": [
    {
     "name": "stdout",
     "output_type": "stream",
     "text": [
      "['complete python test', 'artifical intelligence', 'complete python study']\n"
     ]
    }
   ],
   "source": [
    "todo_list.insert(1,\"artifical intelligence\")\n",
    "print(todo_list)"
   ]
  },
  {
   "cell_type": "markdown",
   "id": "67fd8a5e",
   "metadata": {},
   "source": [
    "**Q: Create a dictionary \"user\" and add name, city key value pair in the dictionary**\n",
    "</br>\n",
    "**Check what is the type of the variable  user and what are the public method available on that variable**\n",
    "</br>\n",
    "**Practice all the methods and write a brief summary on each of them in your words**"
   ]
  },
  {
   "cell_type": "code",
   "execution_count": 56,
   "id": "5f9b02e8",
   "metadata": {},
   "outputs": [
    {
     "name": "stdout",
     "output_type": "stream",
     "text": [
      "{'name': 'akash', 'city': ['jaipur', 'udaipur']}\n"
     ]
    }
   ],
   "source": [
    "user={\n",
    "    \"name\": \"akash\",\n",
    "    \"city\": [\"jaipur\",\"udaipur\"]\n",
    "}\n",
    "\n",
    "\n",
    "print(user)"
   ]
  },
  {
   "cell_type": "code",
   "execution_count": 57,
   "id": "92933dff",
   "metadata": {},
   "outputs": [
    {
     "data": {
      "text/plain": [
       "dict_keys(['name', 'city'])"
      ]
     },
     "execution_count": 57,
     "metadata": {},
     "output_type": "execute_result"
    }
   ],
   "source": [
    "user.keys()"
   ]
  },
  {
   "cell_type": "code",
   "execution_count": 58,
   "id": "263b6a0d",
   "metadata": {},
   "outputs": [
    {
     "name": "stdout",
     "output_type": "stream",
     "text": [
      "{'name': 'akash', 'city': ['jaipur', 'udaipur']}\n"
     ]
    }
   ],
   "source": [
    "user={\n",
    "    \"name\": \"akash\",\n",
    "    \"city\": [\"jaipur\",\"udaipur\"]\n",
    "}\n",
    "\n",
    "\n",
    "print(user)"
   ]
  },
  {
   "cell_type": "code",
   "execution_count": 59,
   "id": "30215c22",
   "metadata": {},
   "outputs": [
    {
     "name": "stdout",
     "output_type": "stream",
     "text": [
      "dict_items([('name', 'akash'), ('city', ['jaipur', 'udaipur'])])\n"
     ]
    }
   ],
   "source": [
    "x=user.items()\n",
    "print(x)"
   ]
  },
  {
   "cell_type": "code",
   "execution_count": 60,
   "id": "c48402e9",
   "metadata": {},
   "outputs": [
    {
     "name": "stdout",
     "output_type": "stream",
     "text": [
      "['jaipur', 'udaipur']\n"
     ]
    }
   ],
   "source": [
    "x=user.get(\"city\")\n",
    "print(x)"
   ]
  },
  {
   "cell_type": "code",
   "execution_count": 61,
   "id": "b76ee8b9",
   "metadata": {},
   "outputs": [
    {
     "name": "stdout",
     "output_type": "stream",
     "text": [
      "dict_values(['akash', ['jaipur', 'udaipur']])\n"
     ]
    }
   ],
   "source": [
    "result=user.values()\n",
    "print(result)"
   ]
  },
  {
   "cell_type": "code",
   "execution_count": 65,
   "id": "6d1dd366",
   "metadata": {},
   "outputs": [
    {
     "name": "stdout",
     "output_type": "stream",
     "text": [
      "{'color': 'yellow'}\n"
     ]
    }
   ],
   "source": [
    "user.update({\"color\":\"yellow\"})\n",
    "print(user)"
   ]
  },
  {
   "cell_type": "code",
   "execution_count": 63,
   "id": "870e7644",
   "metadata": {},
   "outputs": [
    {
     "name": "stdout",
     "output_type": "stream",
     "text": [
      "{'city': ['jaipur', 'udaipur']}\n"
     ]
    }
   ],
   "source": [
    "user.pop(\"name\")\n",
    "print(user)"
   ]
  },
  {
   "cell_type": "code",
   "execution_count": 64,
   "id": "67c7be2e",
   "metadata": {},
   "outputs": [
    {
     "name": "stdout",
     "output_type": "stream",
     "text": [
      "{}\n"
     ]
    }
   ],
   "source": [
    "user.clear()\n",
    "print(user)"
   ]
  },
  {
   "cell_type": "code",
   "execution_count": null,
   "id": "a009e942",
   "metadata": {},
   "outputs": [],
   "source": [
    "summary\n",
    "value()=returns a all values in the dictionary\n",
    "clear()returns a all values are clear in the dictionary\n",
    "pop()=remove the element specified key value\n",
    "items()=returns a list of each value the keys\n",
    "copy()=returns the copy of dictionary"
   ]
  }
 ],
 "metadata": {
  "kernelspec": {
   "display_name": "Python 3 (ipykernel)",
   "language": "python",
   "name": "python3"
  },
  "language_info": {
   "codemirror_mode": {
    "name": "ipython",
    "version": 3
   },
   "file_extension": ".py",
   "mimetype": "text/x-python",
   "name": "python",
   "nbconvert_exporter": "python",
   "pygments_lexer": "ipython3",
   "version": "3.10.5"
  }
 },
 "nbformat": 4,
 "nbformat_minor": 5
}
